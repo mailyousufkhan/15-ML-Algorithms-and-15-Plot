{
 "cells": [
  {
   "cell_type": "markdown",
   "metadata": {},
   "source": [
    "## <div style=\"text-align: center\"> 15+ ML Algorithms 15+ Plot </div>\n",
    "\n",
    "<div style=\"text-align: center\"><b>Quite Practical and Far from any Theoretical Concepts</b></div>\n",
    "<img src='https://image.ibb.co/gbH3ue/iris.png'>\n",
    "<div style=\"text-align:center\"></b></div>"
   ]
  },
  {
   "cell_type": "markdown",
   "metadata": {},
   "source": [
    "<a id=\"2\"></a> <br>\n",
    "## 2- Machine Learning Workflow\n",
    "Field of \tstudy \tthat \tgives\tcomputers\tthe\tability \tto\tlearn \twithout \tbeing\n",
    "explicitly \tprogrammed.\n",
    "\n",
    "\n",
    "Most of the books share the following steps (checklist):\n",
    "\n",
    "1. Define the Problem(Look at the big picture)\n",
    "1. Specify Inputs & Outputs\n",
    "1. Data Collection\n",
    "1. Exploratory data analysis\n",
    "1. Data Preprocessing\n",
    "1. Model Design, Training, and Offline Evaluation\n",
    "1. Model Deployment, Online Evaluation, and Monitoring\n",
    "1. Model Maintenance, Diagnosis, and Retraining\n",
    "\n",
    "**You can see my workflow in the below image** :\n",
    " <img src=\"http://s9.picofile.com/file/8338227634/workflow.png\" />\n",
    "\n",
    "**you should\tfeel free\tto\tadapt \tthis\tchecklist \tto\tyour needs**"
   ]
  },
  {
   "cell_type": "markdown",
   "metadata": {},
   "source": [
    "<a id=\"3\"></a> <br>\n",
    "## 3- Problem Definition\n",
    "I think one of the important things when you start a new machine learning project is Defining your problem. that means you should understand business problem.( **Problem Formalization**)\n",
    "\n",
    "Problem Definition has four steps that have illustrated in the picture below:\n",
    "<img src=\"http://s8.picofile.com/file/8338227734/ProblemDefination.png\">\n",
    "<a id=\"31\"></a> <br>\n",
    "### 3-1 Problem Feature\n",
    "we will use the classic Iris data set. This dataset contains information about three different types of Iris flowers:\n",
    "\n",
    "1. Iris Versicolor\n",
    "1. Iris Virginica\n",
    "1. Iris Setosa\n",
    "\n",
    "The data set contains measurements of four variables :\n",
    "\n",
    "1. sepal length \n",
    "1. sepal width\n",
    "1. petal length \n",
    "1. petal width\n",
    " \n",
    "The Iris data set has a number of interesting features:\n",
    "\n",
    "1. One of the classes (Iris Setosa) is linearly separable from the other two. However, the other two classes are not linearly separable.\n",
    "\n",
    "2. There is some overlap between the Versicolor and Virginica classes, so it is unlikely to achieve a perfect classification rate.\n",
    "\n",
    "3. There is some redundancy in the four input variables, so it is possible to achieve a good solution with only three of them, or even (with difficulty) from two, but the precise choice of best variables is not obvious.\n",
    "\n",
    "**Why am I  using iris dataset:**\n",
    "\n",
    "1- This is a good project because it is so well understood.\n",
    "\n",
    "2- Attributes are numeric so you have to figure out how to load and handle data.\n",
    "\n",
    "3- It is a classification problem, allowing you to practice with perhaps an easier type of supervised learning algorithm.\n",
    "\n",
    "4- It is a multi-class classification problem (multi-nominal) that may require some specialized handling.\n",
    "\n",
    "5- It only has 4 attributes and 150 rows, meaning it is small and easily fits into memory (and a screen or A4 page).\n",
    "\n",
    "6- All of the numeric attributes are in the same units and the same scale, not requiring any special scaling or transforms to get started.[5]\n",
    "\n",
    "7- we can define problem as clustering(unsupervised algorithm) project too.\n",
    "<a id=\"32\"></a> <br>\n",
    "### 3-2 Aim\n",
    "The aim is to classify iris flowers among three species (setosa, versicolor or virginica) from measurements of length and width of sepals and petals\n",
    "<a id=\"33\"></a> <br>\n",
    "### 3-3 Variables\n",
    "The variables are :\n",
    "**sepal_length**: Sepal length, in centimeters, used as input.\n",
    "**sepal_width**: Sepal width, in centimeters, used as input.\n",
    "**petal_length**: Petal length, in centimeters, used as input.\n",
    "**petal_width**: Petal width, in centimeters, used as input.\n",
    "**setosa**: Iris setosa, true or false, used as target.\n",
    "**versicolour**: Iris versicolour, true or false, used as target.\n",
    "**virginica**: Iris virginica, true or false, used as target."
   ]
  },
  {
   "cell_type": "markdown",
   "metadata": {},
   "source": [
    "<a id=\"4\"></a> <br>\n",
    "## 4- Inputs & Outputs\n",
    "<a id=\"41\"></a> <br>\n",
    "### 4-1 Inputs\n",
    "**Iris** is a very popular **classification** and **clustering** problem in machine learning and it is such as \"Hello world\" program when you start learning a new programming language. then I decided to apply Iris on  20 machine learning method on it.\n",
    "As a result, **iris dataset is used as the input of all algorithms**.\n",
    "<a id=\"42\"></a> <br>\n",
    "### 4-2 Outputs\n",
    "the outputs for our algorithms totally depend on the type of classification or clustering algorithms.\n",
    "the outputs can be the number of clusters or predict for new input.\n",
    "\n",
    "**setosa**: Iris setosa, true or false, used as target.\n",
    "**versicolour**: Iris versicolour, true or false, used as target.\n",
    "**virginica**: Iris virginica, true or false, used as a target."
   ]
  },
  {
   "cell_type": "markdown",
   "metadata": {},
   "source": [
    "<a id=\"5\"></a> <br>\n",
    "## 5 Loading Packages\n",
    "In this kernel we are using the below packages:`"
   ]
  },
  {
   "cell_type": "markdown",
   "metadata": {},
   "source": [
    "###   5-1 Import"
   ]
  },
  {
   "cell_type": "code",
   "execution_count": null,
   "metadata": {},
   "outputs": [],
   "source": [
    "from sklearn.model_selection import train_test_split\n",
    "from sklearn.metrics import classification_report\n",
    "from sklearn.metrics import confusion_matrix\n",
    "from sklearn.metrics import accuracy_score\n",
    "from sklearn.decomposition import PCA\n",
    "import matplotlib.pyplot as plt\n",
    "from pandas import get_dummies\n",
    "import plotly.graph_objs as go\n",
    "from sklearn import datasets\n",
    "import plotly.plotly as py\n",
    "import seaborn as sns\n",
    "import pandas as pd\n",
    "import numpy as np\n",
    "import matplotlib\n",
    "import warnings\n",
    "import sklearn\n",
    "import scipy\n",
    "import numpy\n",
    "import json\n",
    "import sys\n",
    "import csv\n",
    "import os"
   ]
  },
  {
   "cell_type": "markdown",
   "metadata": {},
   "source": [
    "<a id=\"52\"></a> <br>\n",
    "### 5-2 Version"
   ]
  },
  {
   "cell_type": "code",
   "execution_count": null,
   "metadata": {},
   "outputs": [],
   "source": [
    "print('matplotlib: {}'.format(matplotlib.__version__))\n",
    "print('sklearn: {}'.format(sklearn.__version__))\n",
    "print('scipy: {}'.format(scipy.__version__))\n",
    "print('seaborn: {}'.format(sns.__version__))\n",
    "print('pandas: {}'.format(pd.__version__))\n",
    "print('numpy: {}'.format(np.__version__))\n",
    "print('Python: {}'.format(sys.version))"
   ]
  },
  {
   "cell_type": "markdown",
   "metadata": {},
   "source": [
    "<a id=\"61\"></a> <br>\n",
    "## 6-1 Data Collection\n",
    "**Iris dataset**  consists of 3 different types of irises’ (Setosa, Versicolour, and Virginica) petal and sepal length, stored in a 150x4 numpy.ndarray\n",
    "\n",
    "The rows being the samples and the columns being: Sepal Length, Sepal Width, Petal Length and Petal Width.\n",
    "\n"
   ]
  }
 ],
 "metadata": {
  "kernelspec": {
   "display_name": "Python 3",
   "language": "python",
   "name": "python3"
  },
  "language_info": {
   "codemirror_mode": {
    "name": "ipython",
    "version": 3
   },
   "file_extension": ".py",
   "mimetype": "text/x-python",
   "name": "python",
   "nbconvert_exporter": "python",
   "pygments_lexer": "ipython3",
   "version": "3.7.1"
  }
 },
 "nbformat": 4,
 "nbformat_minor": 2
}
